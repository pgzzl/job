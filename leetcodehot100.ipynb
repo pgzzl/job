{
 "cells": [
  {
   "cell_type": "code",
   "execution_count": 2,
   "metadata": {},
   "outputs": [
    {
     "data": {
      "text/plain": [
       "dict_values([['eat', 'tea', 'ate'], ['tan', 'nat'], ['bat']])"
      ]
     },
     "execution_count": 2,
     "metadata": {},
     "output_type": "execute_result"
    }
   ],
   "source": [
    "\n",
    "import collections\n",
    "\n",
    "class Solution0:\n",
    "    def groupAnagrams_1(self, strs) :\n",
    "        #字母异位词\n",
    "        #散列表\n",
    "        mp=collections.defaultdict(list)\n",
    "        for st in strs:\n",
    "            key=\"\".join(sorted(st))\n",
    "            mp[key].append(st)\n",
    "        \n",
    "        return list(mp.values())\n",
    "    \n",
    "    def groupAnagrams_2(self, strs):\n",
    "        #字母异位词\n",
    "        #计数\n",
    "        mp=collections.defaultdict(list)\n",
    "        for st in strs:\n",
    "            counts=[0]*26\n",
    "            for ch in st:\n",
    "                counts[ord(ch)-ord['a']]+=1\n",
    "             # 需要将 list 转换成 tuple 才能进行哈希\n",
    "            mp[tuple(counts)].append(st)\n",
    "        return list(mp.values())\n",
    "    \n",
    "solution=Solution0()\n",
    "solution.groupAnagrams_1([\"eat\", \"tea\", \"tan\", \"ate\", \"nat\", \"bat\"])"
   ]
  },
  {
   "cell_type": "code",
   "execution_count": null,
   "metadata": {},
   "outputs": [],
   "source": [
    "class Solution1:\n",
    "    def longestConsecutive(self, nums):\n",
    "        longest_streak=0\n",
    "        num_set=set(nums)#去重\n",
    "        for num in num_set:\n",
    "            if num-1 not in num_set:\n",
    "                current_num=num\n",
    "                current_streak=1\n",
    "\n",
    "                while current_num+1 in num_set:\n",
    "                    current_num+=1\n",
    "                    current_streak+=1\n",
    "                longest_streak=max(longest_streak,current_streak)\n",
    "\n",
    "        return longest_streak"
   ]
  },
  {
   "cell_type": "code",
   "execution_count": null,
   "metadata": {},
   "outputs": [],
   "source": [
    "class Solution2:\n",
    "    def maxArea(self, height) :\n",
    "        #双指针\n",
    "        left=0\n",
    "        right=len(height)-1\n",
    "        maxCon=0\n",
    "        while(left!=right):\n",
    "            if(height[left]>=height[right]):\n",
    "                tempCon=(right-left)*height[right]\n",
    "                maxCon=max(maxCon,tempCon)\n",
    "                right-=1\n",
    "            else:\n",
    "                tempCon=(right-left)*height[left]\n",
    "                maxCon=max(maxCon,tempCon)\n",
    "                left+=1\n",
    "        return maxCon\n"
   ]
  },
  {
   "cell_type": "code",
   "execution_count": 4,
   "metadata": {},
   "outputs": [
    {
     "data": {
      "text/plain": [
       "[[-1, 0, 1], [-1, -1, 2]]"
      ]
     },
     "execution_count": 4,
     "metadata": {},
     "output_type": "execute_result"
    }
   ],
   "source": [
    "class Solution3:\n",
    "    def threeSum(self, nums) :#超出时间\n",
    "        mp=set()\n",
    "        length=len(nums)\n",
    "        if length<=2:\n",
    "            return []\n",
    "        for i in range(length):\n",
    "            for j in range(i+1,length):\n",
    "                for k in range(j+1,length):\n",
    "                    if nums[i]+nums[j]+nums[k]==0:\n",
    "                        mp.add(tuple(sorted([nums[i],nums[j],nums[k]])))\n",
    "        return [list(triplet) for triplet in mp]\n",
    "    \n",
    "    def threeSum1(self,nums):\n",
    "        n = len(nums)\n",
    "        nums.sort()\n",
    "        ans = list()\n",
    "        \n",
    "        # 枚举 a\n",
    "        for first in range(n):\n",
    "            # 需要和上一次枚举的数不相同\n",
    "            if first > 0 and nums[first] == nums[first - 1]:\n",
    "                continue\n",
    "            # c 对应的指针初始指向数组的最右端\n",
    "            third = n - 1\n",
    "            target = -nums[first]\n",
    "            # 枚举 b\n",
    "            for second in range(first + 1, n):\n",
    "                # 需要和上一次枚举的数不相同\n",
    "                if second > first + 1 and nums[second] == nums[second - 1]:\n",
    "                    continue\n",
    "                # 需要保证 b 的指针在 c 的指针的左侧\n",
    "                while second < third and nums[second] + nums[third] > target:\n",
    "                    third -= 1\n",
    "                # 如果指针重合，随着 b 后续的增加\n",
    "                # 就不会有满足 a+b+c=0 并且 b<c 的 c 了，可以退出循环\n",
    "                if second == third:\n",
    "                    break\n",
    "                if nums[second] + nums[third] == target:\n",
    "                    ans.append([nums[first], nums[second], nums[third]])\n",
    "        \n",
    "        return ans\n",
    "\n",
    "\n",
    "\n",
    "solution=Solution3()\n",
    "nums =[-1,0,1,2,-1,-4]\n",
    "solution.threeSum(nums)"
   ]
  }
 ],
 "metadata": {
  "kernelspec": {
   "display_name": "machinelearing",
   "language": "python",
   "name": "python3"
  },
  "language_info": {
   "codemirror_mode": {
    "name": "ipython",
    "version": 3
   },
   "file_extension": ".py",
   "mimetype": "text/x-python",
   "name": "python",
   "nbconvert_exporter": "python",
   "pygments_lexer": "ipython3",
   "version": "3.8.12"
  }
 },
 "nbformat": 4,
 "nbformat_minor": 2
}
